{
 "cells": [
  {
   "cell_type": "code",
   "execution_count": 15,
   "metadata": {
    "collapsed": true
   },
   "outputs": [],
   "source": [
    "import numpy as np \n",
    "from os.path import expanduser\n",
    "import os\n",
    "import re\n",
    "from matplotlib import pyplot\n",
    "from collections import Counter\n",
    "\n",
    "#Regular expression for only words \n",
    "RE = re.compile('[A-Za-z]+')\n",
    "#file specific dictionary, fsd[file]{word:frequency}\n",
    "fsd ={}\n",
    "#Stop words\n",
    "StopWords=[\"a\", \"about\",\"doesn\",\"writes\",\"above\",\"good\", \"above\", \"across\", \"after\", \"afterwards\", \"again\", \"against\", \"all\", \"almost\", \"alone\", \"along\", \"already\", \"also\",\"although\",\"always\",\"am\",\"among\", \"amongst\", \"amoungst\", \"amount\",  \"an\", \"and\", \"another\", \"any\",\"anyhow\",\"anyone\",\"anything\",\"anyway\", \"anywhere\", \"are\", \"around\", \"as\",  \"at\", \"back\",\"be\",\"became\", \"because\",\"become\",\"becomes\", \"becoming\", \"been\", \"before\", \"beforehand\", \"behind\", \"being\", \"below\", \"beside\", \"besides\", \"between\", \"beyond\", \"bill\", \"both\", \"bottom\",\"but\", \"by\", \"call\", \"can\", \"cannot\", \"cant\", \"co\", \"con\", \"could\", \"couldnt\", \"cry\", \"de\", \"describe\", \"detail\", \"do\", \"done\", \"down\", \"due\", \"during\", \"each\", \"eg\", \"eight\", \"either\", \"eleven\",\"else\", \"elsewhere\", \"empty\", \"enough\", \"etc\", \"even\", \"ever\", \"every\", \"everyone\", \"everything\", \"everywhere\", \"except\", \"few\", \"fifteen\", \"fify\", \"fill\", \"find\", \"fire\", \"first\", \"five\", \"for\", \"former\", \"formerly\", \"forty\", \"found\", \"four\", \"from\", \"front\", \"full\", \"further\", \"get\", \"give\", \"go\", \"had\", \"has\", \"hasnt\", \"have\", \"he\", \"hence\", \"her\", \"here\", \"hereafter\", \"hereby\", \"herein\", \"hereupon\", \"hers\", \"herself\", \"him\", \"himself\", \"his\", \"how\", \"however\", \"hundred\", \"ie\", \"if\", \"in\", \"inc\", \"indeed\", \"interest\", \"into\", \"is\", \"it\", \"its\", \"itself\", \"keep\", \"last\", \"latter\", \"latterly\", \"least\", \"less\", \"ltd\", \"made\", \"many\", \"may\", \"me\", \"meanwhile\", \"might\", \"mill\", \"mine\", \"more\", \"moreover\", \"most\", \"mostly\", \"move\", \"much\", \"must\", \"my\", \"myself\", \"name\", \"namely\", \"neither\", \"never\", \"nevertheless\", \"next\", \"nine\", \"no\", \"nobody\", \"none\", \"noone\", \"nor\", \"not\", \"nothing\", \"now\", \"nowhere\", \"of\", \"off\", \"often\", \"on\", \"once\", \"one\", \"only\", \"onto\", \"or\", \"other\", \"others\", \"otherwise\", \"our\", \"ours\", \"ourselves\", \"out\", \"over\", \"own\",\"part\", \"per\", \"perhaps\", \"please\", \"put\", \"rather\", \"re\", \"same\", \"see\", \"seem\", \"seemed\", \"seeming\", \"seems\", \"serious\", \"several\", \"she\", \"should\", \"show\", \"side\", \"since\", \"sincere\", \"six\", \"sixty\", \"so\", \"some\", \"somehow\", \"someone\", \"something\", \"sometime\", \"sometimes\", \"somewhere\", \"still\", \"such\", \"system\", \"take\", \"ten\", \"than\", \"that\", \"the\", \"their\", \"them\", \"themselves\", \"then\", \"thence\", \"there\", \"thereafter\", \"thereby\", \"therefore\", \"therein\", \"thereupon\", \"these\", \"they\", \"thickv\", \"thin\", \"third\", \"this\", \"those\", \"though\", \"three\", \"through\", \"throughout\", \"thru\", \"thus\", \"to\", \"together\", \"too\", \"top\", \"toward\", \"towards\", \"twelve\", \"twenty\", \"two\", \"un\", \"under\", \"until\", \"up\", \"upon\", \"us\", \"very\", \"via\", \"was\", \"we\", \"well\", \"were\", \"what\", \"whatever\", \"when\", \"whence\", \"whenever\", \"where\", \"whereafter\", \"whereas\", \"whereby\", \"wherein\", \"whereupon\", \"wherever\", \"whether\", \"which\", \"while\", \"whither\", \"who\", \"whoever\", \"whole\", \"whom\", \"whose\", \"why\", \"will\", \"with\", \"within\", \"without\", \"would\", \"yet\", \"you\", \"your\", \"yours\", \"yourself\", \"yourselves\", \"the\"]\n",
    "stop_words= {}\n",
    "#stop words in a dictionary for faster search\n",
    "for wrd in StopWords :\n",
    "    stop_words[wrd] = True;\n",
    "#dictionary with words and their frequencies \n",
    "dictionary = {}\n",
    "#array versioan of dictionary\n",
    "dick= []\n",
    "#home directory \n",
    "homee= \"C:\\\\Users\\\\dkm\\\\pySpace\\\\PROJECTS\\\\ml\\\\Text_Classification\\\\20newsgroups-mld\\\\mini_newsgroups\\\\mini_newsgroups\"\n",
    "#final data array \n",
    "data = [[\"File names \" ,\"catogary\"]]"
   ]
  },
  {
   "cell_type": "code",
   "execution_count": 16,
   "metadata": {
    "collapsed": true
   },
   "outputs": [],
   "source": [
    "#### Stopinator \n",
    "##Look at the frirst 30 lines in each file as they are meta tags they shall be removed  \n",
    "#so all the words are addes to a string which then will be added to stop_word dictionarey  \n",
    "wastedLines = \"\"\n",
    "for dirpath, dirs, files in os.walk(homee):\n",
    "    for filename in files:\n",
    "        fname = os.path.join(dirpath,filename)\n",
    "        with open(fname) as myfile: \n",
    "            for line in (myfile.read()).split('\\n'):\n",
    "                if ':' not in line :\n",
    "                    break\n",
    "                wastedLines += \" \"+line \n",
    "## Wasted words \n",
    "for word in (RE.findall(wastedLines)):\n",
    "    stop_words[word.lower()]=True\n",
    "#Now we have more stop words "
   ]
  },
  {
   "cell_type": "code",
   "execution_count": 17,
   "metadata": {
    "collapsed": true,
    "scrolled": true
   },
   "outputs": [],
   "source": [
    "#takes a file, extracts non-stop_words and records frequencies \n",
    "def process(fname, dictionary,stop_words):\n",
    "        fName= (fname.split(\"\\\\\"))[-1]\n",
    "        #fName is filename fname is completepath\n",
    "        fsd[fName] ={}\n",
    "        with open(fname) as myfile: \n",
    "            for word in (RE.findall(myfile.read())):\n",
    "                if len(word)<2 or ( word.lower() in stop_words):\n",
    "                    continue\n",
    "                if word in fsd[fName]:\n",
    "                    fsd[fName][word] +=1\n",
    "                else :\n",
    "                    fsd[fName][word] =1  \n",
    "                if word in dictionary :\n",
    "                    dictionary[word] +=1 \n",
    "                else:\n",
    "                    dictionary[word] =1\n",
    "        return"
   ]
  },
  {
   "cell_type": "code",
   "execution_count": 18,
   "metadata": {},
   "outputs": [
    {
     "data": {
      "text/plain": [
       "(29261, 11833, 0)"
      ]
     },
     "execution_count": 18,
     "metadata": {},
     "output_type": "execute_result"
    }
   ],
   "source": [
    "#dictonary phase\n",
    "##build dictionary with filename : frequency structure \n",
    "for dirpath, dirs, files in os.walk(homee):\n",
    "    for filename in files:\n",
    "        fname = os.path.join(dirpath,filename)\n",
    "        process(fname,dictionary,stop_words)\n",
    "len(dictionary),len(fsd)\n",
    "\n",
    "##status        \n",
    "len(dictionary),len(stop_words),len( dick)"
   ]
  },
  {
   "cell_type": "code",
   "execution_count": 19,
   "metadata": {},
   "outputs": [
    {
     "data": {
      "text/plain": [
       "(29261, 11833, 29261, 1)"
      ]
     },
     "execution_count": 19,
     "metadata": {},
     "output_type": "execute_result"
    }
   ],
   "source": [
    "###DICK CREATION \n",
    "dick = np.rec.fromarrays([[i for i in dictionary.keys()],[i for i in dictionary.values()] ],names =('word','frequency'))\n",
    "dick = (sorted(dick,key=lambda x: (x[1])))\n",
    "##status  \n",
    "len(dictionary),len(stop_words),len( dick),len(data)"
   ]
  },
  {
   "cell_type": "code",
   "execution_count": 20,
   "metadata": {
    "scrolled": true
   },
   "outputs": [
    {
     "data": {
      "text/plain": [
       "(29261, 11833, 29261, [['File names ', 'catogary']])"
      ]
     },
     "execution_count": 20,
     "metadata": {},
     "output_type": "execute_result"
    }
   ],
   "source": [
    "##Terminator\n",
    "##the code below eliminates the words common in all files by searching the word in every file one by one\n",
    "file_count= len(fsd.keys())\n",
    "for word,frequency in dick:\n",
    "    if frequency < file_count: \n",
    "        break\n",
    "    Is_this_word_in_every_file = True\n",
    "    for file in fsd.keys():\n",
    "        if word not in fsd[file]:\n",
    "            Is_this_word_in_every_file = False\n",
    "            print(word, \"not in \", fname )\n",
    "            break\n",
    "    if Is_this_word_in_every_file : \n",
    "        [fsd[thisFile].pop(word) for thisFile in fsd.keys()]\n",
    "        dictionary.pop(word)\n",
    "##statusy        \n",
    "len(dictionary),len(stop_words),len( dick),data"
   ]
  },
  {
   "cell_type": "code",
   "execution_count": 21,
   "metadata": {},
   "outputs": [],
   "source": [
    "upperBound = 45\n",
    "lowerBound = 20\n",
    "counter =0\n",
    "for i,j in dick :\n",
    "    counter+=1\n",
    "    if j > lowerBound:\n",
    "        break\n",
    "        \n",
    "dick = dick[counter-1 : len(dictionary )]\n",
    "dick.reverse()\n",
    "counter =0\n",
    "for i,j in dick :\n",
    "    counter+=1\n",
    "    if j <upperBound:\n",
    "        break\n",
    "dick = dick[counter : len(dictionary)]"
   ]
  },
  {
   "cell_type": "code",
   "execution_count": 22,
   "metadata": {
    "scrolled": false
   },
   "outputs": [
    {
     "data": {
      "image/png": "[encoded data removed]",
      "text/plain": [
       "<matplotlib.figure.Figure at 0x21ad9d4cc18>"
      ]
     },
     "metadata": {},
     "output_type": "display_data"
    }
   ],
   "source": [
    "dick2 =np.array( [i for j,i in dick[0:len(dick)]] ,dtype= int)\n",
    "\n",
    "import matplotlib.pyplot as plt\n",
    "fig_size=[0,0]\n",
    "fig_size[0] = 15\n",
    "fig_size[1] = 5\n",
    "\n",
    "plt.rcParams[\"figure.figsize\"] = fig_size\n",
    "plt.xticks(rotation=90)\n",
    "\n",
    "x = Counter(dick2).keys()\n",
    "y = Counter(dick2).values()\n",
    "plt.scatter(x,y)\n",
    "plt.show()\n",
    "\n",
    "##Frequency of frequencies "
   ]
  },
  {
   "cell_type": "code",
   "execution_count": 23,
   "metadata": {},
   "outputs": [],
   "source": [
    "#Final Data table \n",
    "count=0\n",
    "for dirpath, dirs, files in os.walk(homee):\n",
    "    for filename in files:\n",
    "        fname = os.path.join(dirpath,filename)\n",
    "        data = np.append(data,[[filename, (dirpath.split(\"\\\\\"))[-1]]],axis=0)\n",
    "data = data [1:len(data)]\n"
   ]
  },
  {
   "cell_type": "code",
   "execution_count": 24,
   "metadata": {
    "scrolled": false
   },
   "outputs": [],
   "source": [
    "#filess = np.array([[i for i,j in data ] ])\n",
    "filess = [[i for i in  range(len(data))]]\n",
    "cats = np.array( [ j for i,j in data ])"
   ]
  },
  {
   "cell_type": "code",
   "execution_count": 25,
   "metadata": {},
   "outputs": [],
   "source": [
    "for word,freq in dick:\n",
    "    word_freq_per_file =[]\n",
    "    for file in data[:, 0]:\n",
    "        if word in fsd[file]:\n",
    "            word_freq_per_file.append(1)\n",
    "        else:\n",
    "            word_freq_per_file.append(0)\n",
    "    filess = np.append(filess,[word_freq_per_file],axis=0 )\n",
    "#np.append(filess,cats)"
   ]
  },
  {
   "cell_type": "code",
   "execution_count": 26,
   "metadata": {},
   "outputs": [],
   "source": [
    "filess = np.array(filess)"
   ]
  },
  {
   "cell_type": "code",
   "execution_count": 27,
   "metadata": {},
   "outputs": [
    {
     "name": "stdout",
     "output_type": "stream",
     "text": [
      "(616, 2000)\n"
     ]
    },
    {
     "data": {
      "text/plain": [
       "(2000, 616)"
      ]
     },
     "execution_count": 27,
     "metadata": {},
     "output_type": "execute_result"
    }
   ],
   "source": [
    "print(filess.shape)\n",
    "filess = np.transpose(filess)\n",
    "filess.shape"
   ]
  },
  {
   "cell_type": "code",
   "execution_count": 36,
   "metadata": {},
   "outputs": [],
   "source": [
    "np.savetxt(\"testing.csv\",filess, delimiter=\",\",fmt= \"%1.0f\")"
   ]
  },
  {
   "cell_type": "code",
   "execution_count": 29,
   "metadata": {},
   "outputs": [
    {
     "data": {
      "text/plain": [
       "1954"
      ]
     },
     "execution_count": 29,
     "metadata": {},
     "output_type": "execute_result"
    }
   ],
   "source": [
    "len(fsd.keys())"
   ]
  },
  {
   "cell_type": "code",
   "execution_count": 30,
   "metadata": {},
   "outputs": [
    {
     "data": {
      "text/plain": [
       "615"
      ]
     },
     "execution_count": 30,
     "metadata": {},
     "output_type": "execute_result"
    }
   ],
   "source": [
    "len(dick)"
   ]
  },
  {
   "cell_type": "code",
   "execution_count": 415,
   "metadata": {},
   "outputs": [
    {
     "ename": "ValueError",
     "evalue": "all the input array dimensions except for the concatenation axis must match exactly",
     "output_type": "error",
     "traceback": [
      "\u001b[1;31m---------------------------------------------------------------------\u001b[0m",
      "\u001b[1;31mValueError\u001b[0m                          Traceback (most recent call last)",
      "\u001b[1;32m<ipython-input-415-d30477494e78>\u001b[0m in \u001b[0;36m<module>\u001b[1;34m()\u001b[0m\n\u001b[1;32m----> 1\u001b[1;33m \u001b[0mnp\u001b[0m\u001b[1;33m.\u001b[0m\u001b[0mappend\u001b[0m\u001b[1;33m(\u001b[0m\u001b[1;33m[\u001b[0m\u001b[1;33m[\u001b[0m\u001b[1;33m]\u001b[0m\u001b[1;33m]\u001b[0m\u001b[1;33m,\u001b[0m\u001b[1;33m[\u001b[0m\u001b[1;33m[\u001b[0m\u001b[1;36m1\u001b[0m\u001b[1;33m,\u001b[0m\u001b[1;36m2\u001b[0m\u001b[1;33m,\u001b[0m\u001b[1;36m3\u001b[0m\u001b[1;33m,\u001b[0m\u001b[1;36m4\u001b[0m\u001b[1;33m]\u001b[0m\u001b[1;33m]\u001b[0m\u001b[1;33m,\u001b[0m\u001b[0maxis\u001b[0m\u001b[1;33m=\u001b[0m\u001b[1;36m0\u001b[0m\u001b[1;33m)\u001b[0m\u001b[1;33m\u001b[0m\u001b[0m\n\u001b[0m",
      "\u001b[1;32m~\\Anaconda3\\lib\\site-packages\\numpy\\lib\\function_base.py\u001b[0m in \u001b[0;36mappend\u001b[1;34m(arr, values, axis)\u001b[0m\n\u001b[0;32m   5150\u001b[0m         \u001b[0mvalues\u001b[0m \u001b[1;33m=\u001b[0m \u001b[0mravel\u001b[0m\u001b[1;33m(\u001b[0m\u001b[0mvalues\u001b[0m\u001b[1;33m)\u001b[0m\u001b[1;33m\u001b[0m\u001b[0m\n\u001b[0;32m   5151\u001b[0m         \u001b[0maxis\u001b[0m \u001b[1;33m=\u001b[0m \u001b[0marr\u001b[0m\u001b[1;33m.\u001b[0m\u001b[0mndim\u001b[0m\u001b[1;33m-\u001b[0m\u001b[1;36m1\u001b[0m\u001b[1;33m\u001b[0m\u001b[0m\n\u001b[1;32m-> 5152\u001b[1;33m     \u001b[1;32mreturn\u001b[0m \u001b[0mconcatenate\u001b[0m\u001b[1;33m(\u001b[0m\u001b[1;33m(\u001b[0m\u001b[0marr\u001b[0m\u001b[1;33m,\u001b[0m \u001b[0mvalues\u001b[0m\u001b[1;33m)\u001b[0m\u001b[1;33m,\u001b[0m \u001b[0maxis\u001b[0m\u001b[1;33m=\u001b[0m\u001b[0maxis\u001b[0m\u001b[1;33m)\u001b[0m\u001b[1;33m\u001b[0m\u001b[0m\n\u001b[0m",
      "\u001b[1;31mValueError\u001b[0m: all the input array dimensions except for the concatenation axis must match exactly"
     ]
    }
   ],
   "source": [
    "np.append([[]],[[1,2,3,4]],axis=0)"
   ]
  },
  {
   "cell_type": "code",
   "execution_count": 37,
   "metadata": {},
   "outputs": [
    {
     "data": {
      "text/plain": [
       "(2000, 616)"
      ]
     },
     "execution_count": 37,
     "metadata": {},
     "output_type": "execute_result"
    }
   ],
   "source": [
    "filess.shape"
   ]
  },
  {
   "cell_type": "code",
   "execution_count": null,
   "metadata": {
    "collapsed": true
   },
   "outputs": [],
   "source": []
  },
  {
   "cell_type": "code",
   "execution_count": null,
   "metadata": {
    "collapsed": true
   },
   "outputs": [],
   "source": []
  },
  {
   "cell_type": "code",
   "execution_count": null,
   "metadata": {
    "collapsed": true
   },
   "outputs": [],
   "source": []
  },
  {
   "cell_type": "code",
   "execution_count": null,
   "metadata": {
    "collapsed": true
   },
   "outputs": [],
   "source": []
  },
  {
   "cell_type": "code",
   "execution_count": null,
   "metadata": {
    "collapsed": true
   },
   "outputs": [],
   "source": []
  }
 ],
 "metadata": {
  "kernelspec": {
   "display_name": "Python 3",
   "language": "python",
   "name": "python3"
  },
  "language_info": {
   "codemirror_mode": {
    "name": "ipython",
    "version": 3
   },
   "file_extension": ".py",
   "mimetype": "text/x-python",
   "name": "python",
   "nbconvert_exporter": "python",
   "pygments_lexer": "ipython3",
   "version": "3.6.3"
  }
 },
 "nbformat": 4,
 "nbformat_minor": 2
}
