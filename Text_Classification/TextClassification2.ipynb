{
 "cells": [
  {
   "cell_type": "code",
   "execution_count": 162,
   "metadata": {
    "collapsed": true
   },
   "outputs": [],
   "source": [
    "import numpy as np \n",
    "import os\n",
    "import re\n",
    "import pandas as pd \n",
    "from   matplotlib import pyplot\n",
    "from   collections import Counter\n",
    "from   sklearn import model_selection\n",
    "\n",
    "#Regular expression that can detect words and alphabets only \n",
    "RE = re.compile('[A-Za-z]+')\n",
    "#file specific dictionary, fsd{ file:{word:frequency} }\n",
    "fsd ={}\n",
    "#Stop words\n",
    "StopWords=[\"a\", \"about\",\"doesn\",\"writes\",\"above\",\"good\", \"above\", \"across\", \"after\", \"afterwards\", \"again\", \"against\", \"all\", \"almost\", \"alone\", \"along\", \"already\", \"also\",\"although\",\"always\",\"am\",\"among\", \"amongst\", \"amoungst\", \"amount\",  \"an\", \"and\", \"another\", \"any\",\"anyhow\",\"anyone\",\"anything\",\"anyway\", \"anywhere\", \"are\", \"around\", \"as\",  \"at\", \"back\",\"be\",\"became\", \"because\",\"become\",\"becomes\", \"becoming\", \"been\", \"before\", \"beforehand\", \"behind\", \"being\", \"below\", \"beside\", \"besides\", \"between\", \"beyond\", \"bill\", \"both\", \"bottom\",\"but\", \"by\", \"call\", \"can\", \"cannot\", \"cant\", \"co\", \"con\", \"could\", \"couldnt\", \"cry\", \"de\", \"describe\", \"detail\", \"do\", \"done\", \"down\", \"due\", \"during\", \"each\", \"eg\", \"eight\", \"either\", \"eleven\",\"else\", \"elsewhere\", \"empty\", \"enough\", \"etc\", \"even\", \"ever\", \"every\", \"everyone\", \"everything\", \"everywhere\", \"except\", \"few\", \"fifteen\", \"fify\", \"fill\", \"find\", \"fire\", \"first\", \"five\", \"for\", \"former\", \"formerly\", \"forty\", \"found\", \"four\", \"from\", \"front\", \"full\", \"further\", \"get\", \"give\", \"go\", \"had\", \"has\", \"hasnt\", \"have\", \"he\", \"hence\", \"her\", \"here\", \"hereafter\", \"hereby\", \"herein\", \"hereupon\", \"hers\", \"herself\", \"him\", \"himself\", \"his\", \"how\", \"however\", \"hundred\", \"ie\", \"if\", \"in\", \"inc\", \"indeed\", \"interest\", \"into\", \"is\", \"it\", \"its\", \"itself\", \"keep\", \"last\", \"latter\", \"latterly\", \"least\", \"less\", \"ltd\", \"made\", \"many\", \"may\", \"me\", \"meanwhile\", \"might\", \"mill\", \"mine\", \"more\", \"moreover\", \"most\", \"mostly\", \"move\", \"much\", \"must\", \"my\", \"myself\", \"name\", \"namely\", \"neither\", \"never\", \"nevertheless\", \"next\", \"nine\", \"no\", \"nobody\", \"none\", \"noone\", \"nor\", \"not\", \"nothing\", \"now\", \"nowhere\", \"of\", \"off\", \"often\", \"on\", \"once\", \"one\", \"only\", \"onto\", \"or\", \"other\", \"others\", \"otherwise\", \"our\", \"ours\", \"ourselves\", \"out\", \"over\", \"own\",\"part\", \"per\", \"perhaps\", \"please\", \"put\", \"rather\", \"re\", \"same\", \"see\", \"seem\", \"seemed\", \"seeming\", \"seems\", \"serious\", \"several\", \"she\", \"should\", \"show\", \"side\", \"since\", \"sincere\", \"six\", \"sixty\", \"so\", \"some\", \"somehow\", \"someone\", \"something\", \"sometime\", \"sometimes\", \"somewhere\", \"still\", \"such\", \"system\", \"take\", \"ten\", \"than\", \"that\", \"the\", \"their\", \"them\", \"themselves\", \"then\", \"thence\", \"there\", \"thereafter\", \"thereby\", \"therefore\", \"therein\", \"thereupon\", \"these\", \"they\", \"thickv\", \"thin\", \"third\", \"this\", \"those\", \"though\", \"three\", \"through\", \"throughout\", \"thru\", \"thus\", \"to\", \"together\", \"too\", \"top\", \"toward\", \"towards\", \"twelve\", \"twenty\", \"two\", \"un\", \"under\", \"until\", \"up\", \"upon\", \"us\", \"very\", \"via\", \"was\", \"we\", \"well\", \"were\", \"what\", \"whatever\", \"when\", \"whence\", \"whenever\", \"where\", \"whereafter\", \"whereas\", \"whereby\", \"wherein\", \"whereupon\", \"wherever\", \"whether\", \"which\", \"while\", \"whither\", \"who\", \"whoever\", \"whole\", \"whom\", \"whose\", \"why\", \"will\", \"with\", \"within\", \"without\", \"would\", \"yet\", \"you\", \"your\", \"yours\", \"yourself\", \"yourselves\", \"the\"]\n",
    "stop_words= {}\n",
    "#stop words in a dictionary for faster search\n",
    "for wrd in StopWords :\n",
    "    stop_words[wrd] = True;\n",
    "#dictionary with words and their frequencies in all files combined \n",
    "dictionary = {}\n",
    "#array versioan of dictionary\n",
    "dictArray= []\n",
    "#home directory or the root folder of all news articles\n",
    "homee= \"C://Users//dkm//pySpace//PROJECTS//ml//Text_Classification//20newsgroups-mld//20_newsgroups//20_newsgroups\"\n",
    "#final data array shall contain the files and their catagories and full paths  \n",
    "table =[]"
   ]
  },
  {
   "cell_type": "code",
   "execution_count": 163,
   "metadata": {
    "collapsed": true
   },
   "outputs": [],
   "source": [
    "table = [[\"FullPath\",\"file\",\"Catagory\"]]\n",
    "for dirpath, dirs, files in os.walk(homee):\n",
    "    for filename in files:\n",
    "        fname = os.path.join(dirpath,filename)\n",
    "        table.append([fname,filename, dirpath.split('//')[-1]] )\n",
    "table = np.array(table)\n",
    "table = table[1:len(table)]"
   ]
  },
  {
   "cell_type": "code",
   "execution_count": 164,
   "metadata": {
    "collapsed": true
   },
   "outputs": [],
   "source": [
    "\n",
    "#### Stopinator \n",
    "## first 15- 20 lines in every file  are meta tags they shall be removed  \n",
    "#so all the words are addes to a string which then will be added to stop_word dictionary\n",
    "#depricated (adding these words in stop_words would not only remove them from the meta section but from the article too, was a dumb decision to make  )\n",
    "#wastedLines = \"\"\n",
    "#for fname  in table[:,0]:\n",
    "#    with open(fname) as myfile: \n",
    "#        for line in (myfile.read()).split('\\n'):\n",
    "#            if ':' not in line :\n",
    "#                break\n",
    "#            wastedLines += \" \"+line\n",
    "## Wasted words \n",
    "#for word in (RE.findall(wastedLines)):\n",
    "#    stop_words[word.lower()]=True\n",
    "#Now we have more stop words \n"
   ]
  },
  {
   "cell_type": "code",
   "execution_count": 165,
   "metadata": {
    "collapsed": true
   },
   "outputs": [],
   "source": [
    "# In[469]:\n",
    "#takes a file, extracts non-stop_words and records their frequencies to dictionary and fsd  \n",
    "def process(fname, dictionary,stop_words):\n",
    "        fName= (fname.split(\"\\\\\"))[-1]\n",
    "        #fName is filename fname is completepath\n",
    "        fsd[fName] ={}\n",
    "        with open(fname) as myfile: \n",
    "            for line in ( myfile.read() ).split('\\n'):\n",
    "                if ':' in  line:  #lines with meta info are skipped\n",
    "                    continue\n",
    "                for word in (RE.findall(line)):\n",
    "                    if len(word)<2 or ( word.lower() in stop_words):\n",
    "                        continue\n",
    "                    if word in fsd[fName]:\n",
    "                        fsd[fName][word] +=1\n",
    "                    else:\n",
    "                        fsd[fName][word] =1  \n",
    "                    if word in dictionary :\n",
    "                        dictionary[word] +=1 \n",
    "                    else:\n",
    "                        dictionary[word] =1\n",
    "        return\n"
   ]
  },
  {
   "cell_type": "code",
   "execution_count": 166,
   "metadata": {
    "scrolled": true
   },
   "outputs": [
    {
     "data": {
      "text/plain": [
       "(104863, 320, 0)"
      ]
     },
     "execution_count": 166,
     "metadata": {},
     "output_type": "execute_result"
    }
   ],
   "source": [
    "# In[470]:\n",
    "#dictonary phase\n",
    "##build dictionary with { filename : frequency} structure and populate fsd {file:{word:frequency }}\n",
    "x_train, x_test, y_train, y_test = model_selection.train_test_split(table[:,0:2], table[:,-1])\n",
    "for i in x_train[:,0] :\n",
    "    process(i,dictionary,stop_words)\n",
    "flush={}\n",
    "for i in x_test[:,0]:\n",
    "    process(i,flush,stop_words)\n",
    "flush = None\n",
    "\n",
    "##status\n",
    "len(dictionary),len(stop_words),len( dictArray)\n",
    "\n"
   ]
  },
  {
   "cell_type": "code",
   "execution_count": 167,
   "metadata": {},
   "outputs": [
    {
     "data": {
      "text/plain": [
       "(104863, 320, 104863, 19997)"
      ]
     },
     "execution_count": 167,
     "metadata": {},
     "output_type": "execute_result"
    }
   ],
   "source": [
    "# In[471]:\n",
    "###dictArray CREATION array version of the current dictionary \n",
    "dictArray = []\n",
    "dictArray = [[i,j] for i,j in dictionary.items()]\n",
    "dictArray = (sorted(dictArray,key=lambda x: (x[1]))) \n",
    "##status \n",
    "len(dictionary),len(stop_words),len( dictArray),len(table) \n"
   ]
  },
  {
   "cell_type": "code",
   "execution_count": 168,
   "metadata": {},
   "outputs": [
    {
     "data": {
      "text/plain": [
       "(104863, 320, 104863)"
      ]
     },
     "execution_count": 168,
     "metadata": {},
     "output_type": "execute_result"
    }
   ],
   "source": [
    "##Terminator\n",
    "##the code below eliminates the words common in all files by searching the word in every file one by one\n",
    "file_count= len(fsd.keys())\n",
    "for word,frequency in dictArray:\n",
    "    if frequency < file_count: \n",
    "        break\n",
    "    Is_this_word_in_every_file = True\n",
    "    for file in fsd.keys():\n",
    "        if word not in fsd[file]:\n",
    "            Is_this_word_in_every_file = False\n",
    "            print(word, \"not in \", fname )\n",
    "            break\n",
    "    if Is_this_word_in_every_file : \n",
    "        [fsd[thisFile].pop(word) for thisFile in fsd.keys()] \n",
    "        dictionary.pop(word)\n",
    "        \n",
    "dictArray = []\n",
    "dictArray = [[i,j] for i,j in dictionary.items()]\n",
    "dictArray = (sorted(dictArray,key=lambda x: (x[1]))) \n",
    "##statusy\n",
    "len(dictionary), len(stop_words), len( dictArray)\n",
    "\n"
   ]
  },
  {
   "cell_type": "code",
   "execution_count": 169,
   "metadata": {
    "collapsed": true
   },
   "outputs": [],
   "source": [
    "\n",
    "\n",
    "#upper bound for highest frequency permittable \n",
    "upperBound = 250\n",
    "lowerBound = 3\n",
    "\n",
    "counter =0\n",
    "for i,j in dictArray :\n",
    "    counter+=1\n",
    "    if j > lowerBound:\n",
    "        break\n",
    "        \n",
    "dictArray = dictArray[counter-1 : len(dictionary )]\n",
    "dictArray.reverse()\n",
    "counter =0\n",
    "for i,j in dictArray :\n",
    "    counter+=1\n",
    "    if j <upperBound:\n",
    "        break\n",
    "dictArray = dictArray[counter : len(dictionary)]\n"
   ]
  },
  {
   "cell_type": "code",
   "execution_count": null,
   "metadata": {
    "collapsed": true
   },
   "outputs": [],
   "source": [
    "\n"
   ]
  },
  {
   "cell_type": "code",
   "execution_count": 170,
   "metadata": {},
   "outputs": [
    {
     "data": {
      "image/png": "[encoded data removed]",
      "text/plain": [
       "<matplotlib.figure.Figure at 0x1e3074f0048>"
      ]
     },
     "metadata": {},
     "output_type": "display_data"
    },
    {
     "data": {
      "image/png": "[encoded data removed]",
      "text/plain": [
       "<matplotlib.figure.Figure at 0x1e30756de48>"
      ]
     },
     "metadata": {},
     "output_type": "display_data"
    }
   ],
   "source": [
    "\n",
    "dictArray2 =np.array( [i for j,i in dictArray[0:len(dictArray)]] ,dtype= int)\n",
    "\n",
    "import matplotlib.pyplot as plt\n",
    "fig_size=[0,0]\n",
    "fig_size[0] = 50\n",
    "fig_size[1] = 5\n",
    "\n",
    "plt.rcParams[\"figure.figsize\"] = fig_size\n",
    "plt.xticks(rotation=90)\n",
    "\n",
    "x = Counter(dictArray2).keys()\n",
    "y = Counter(dictArray2).values()\n",
    "plt.scatter(x,y)\n",
    "plt.show()\n",
    "\n",
    "#Frequency of frequencies \n",
    "\n",
    "plt.scatter([i for i in range( len(dictArray) )],[j for i,j in dictArray])\n",
    "plt.show()\n"
   ]
  },
  {
   "cell_type": "code",
   "execution_count": null,
   "metadata": {
    "collapsed": true
   },
   "outputs": [],
   "source": [
    "##Final Data table \n",
    "#count=0\n",
    "#for dirpath, dirs, files in os.walk(homee):\n",
    "#    for filename in files:\n",
    "#        fname = os.path.join(dirpath,filename)\n",
    "#        data  = np.append(data,[[filename, (dirpath.split(\"\\\\\"))[-1]]],axis=0)\n",
    "#data = data [1:len(data)]"
   ]
  },
  {
   "cell_type": "code",
   "execution_count": null,
   "metadata": {
    "collapsed": true
   },
   "outputs": [],
   "source": [
    "#create the table file X word table saving frequency\n",
    "\n",
    "filess = [[i for i in  range(len(table))]]\n",
    "for word,freq in dictArray:\n",
    "    word_freq_per_file =[]\n",
    "    for file in table[:, 1]:\n",
    "        if word in fsd[file]:\n",
    "            word_freq_per_file.append(fsd[file][word])\n",
    "        else:\n",
    "            word_freq_per_file.append(0)\n",
    "    filess.append(word_freq_per_file )"
   ]
  },
  {
   "cell_type": "code",
   "execution_count": null,
   "metadata": {},
   "outputs": [],
   "source": [
    "filess = np.array(filess)\n",
    "print(filess.shape)\n",
    "filess = np.transpose(filess)\n",
    "filess.shape"
   ]
  },
  {
   "cell_type": "code",
   "execution_count": null,
   "metadata": {},
   "outputs": [],
   "source": [
    "np.savetxt(\"testing.csv\",filess, delimiter=\",\",fmt= \"%1.0d\")\n",
    "df = pd.read_csv(\"C:\\\\Users\\\\dkm\\\\pySpace\\\\PROJECTS\\\\ml\\\\Text_Classification\\\\testing.csv\" , dtype='int16')\n",
    "df = df.drop((df.columns)[0],axis=1 )\n",
    "df.columns = [i for i,j in  dictArray ]\n",
    "df['Y_Catagory'] = [j for h,i,j in table[1:len(table)]]\n"
   ]
  },
  {
   "cell_type": "code",
   "execution_count": null,
   "metadata": {},
   "outputs": [],
   "source": [
    "df.shape\n",
    "# # ###############DATASET IS READY ###################"
   ]
  },
  {
   "cell_type": "code",
   "execution_count": null,
   "metadata": {},
   "outputs": [],
   "source": [
    "from sklearn.naive_bayes import MultinomialNB\n",
    "X = df[df.columns[0:-1]]\n",
    "Y = df['Y_Catagory']\n",
    "X_Train, X_Test, Y_Train, Y_Test = model_selection.train_test_split(X,Y )\n",
    "mnb = MultinomialNB()"
   ]
  },
  {
   "cell_type": "code",
   "execution_count": null,
   "metadata": {
    "collapsed": true
   },
   "outputs": [],
   "source": [
    "y_pred = mnb.fit(X_Train, Y_Train).predict(X_Test)\n",
    "len(X_Test),len(Y_Test),len(Y_Train),len(X_Train)\n",
    "res= np.append([[i]for i in y_pred], [[i]for i in Y_Test], axis = 1)"
   ]
  },
  {
   "cell_type": "code",
   "execution_count": null,
   "metadata": {},
   "outputs": [],
   "source": [
    "def error(res):\n",
    "    c= 0\n",
    "    for i,j in res:\n",
    "        if i != j :\n",
    "            c+=1\n",
    "    return (c),\"out of \",len(Y_Test)\n",
    "res\n",
    "resOne =   [[(i.split(\".\"))[0],(j.split(\".\"))[0]] for i,j in res ] \n",
    "resTwo =   [[(i.split(\".\"))[1],(j.split(\".\"))[1]] for i,j in res ] \n",
    "\"Main Catagory error :\",error(resOne),\"sub Catagory error :\", error(resTwo), error(res)"
   ]
  },
  {
   "cell_type": "code",
   "execution_count": null,
   "metadata": {},
   "outputs": [],
   "source": [
    "mnb.score(X_Test,Y_Test)"
   ]
  },
  {
   "cell_type": "code",
   "execution_count": null,
   "metadata": {},
   "outputs": [],
   "source": []
  },
  {
   "cell_type": "code",
   "execution_count": 35,
   "metadata": {},
   "outputs": [
    {
     "data": {
      "text/plain": [
       "32434"
      ]
     },
     "execution_count": 35,
     "metadata": {},
     "output_type": "execute_result"
    }
   ],
   "source": []
  }
 ],
 "metadata": {
  "kernelspec": {
   "display_name": "Python 3",
   "language": "python",
   "name": "python3"
  },
  "language_info": {
   "codemirror_mode": {
    "name": "ipython",
    "version": 3
   },
   "file_extension": ".py",
   "mimetype": "text/x-python",
   "name": "python",
   "nbconvert_exporter": "python",
   "pygments_lexer": "ipython3",
   "version": "3.6.3"
  }
 },
 "nbformat": 4,
 "nbformat_minor": 2
}
