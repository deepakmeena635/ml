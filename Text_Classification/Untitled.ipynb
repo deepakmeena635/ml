{
 "cells": [
  {
   "cell_type": "code",
   "execution_count": 72,
   "metadata": {
    "collapsed": true
   },
   "outputs": [],
   "source": [
    "import numpy as np \n",
    "from os.path import expanduser\n",
    "import os\n",
    "import re\n",
    "from matplotlib import pyplot\n",
    "from collections import Counter\n",
    "\n",
    "#Regular expression for only words \n",
    "RE = re.compile('[A-Za-z]+')\n",
    "#file specific dictionary, fsd[file]{word:frequency}\n",
    "fsd ={}\n",
    "#Stop words\n",
    "StopWords=[\"a\", \"about\",\"doesn\",\"writes\",\"above\",\"good\", \"above\", \"across\", \"after\", \"afterwards\", \"again\", \"against\", \"all\", \"almost\", \"alone\", \"along\", \"already\", \"also\",\"although\",\"always\",\"am\",\"among\", \"amongst\", \"amoungst\", \"amount\",  \"an\", \"and\", \"another\", \"any\",\"anyhow\",\"anyone\",\"anything\",\"anyway\", \"anywhere\", \"are\", \"around\", \"as\",  \"at\", \"back\",\"be\",\"became\", \"because\",\"become\",\"becomes\", \"becoming\", \"been\", \"before\", \"beforehand\", \"behind\", \"being\", \"below\", \"beside\", \"besides\", \"between\", \"beyond\", \"bill\", \"both\", \"bottom\",\"but\", \"by\", \"call\", \"can\", \"cannot\", \"cant\", \"co\", \"con\", \"could\", \"couldnt\", \"cry\", \"de\", \"describe\", \"detail\", \"do\", \"done\", \"down\", \"due\", \"during\", \"each\", \"eg\", \"eight\", \"either\", \"eleven\",\"else\", \"elsewhere\", \"empty\", \"enough\", \"etc\", \"even\", \"ever\", \"every\", \"everyone\", \"everything\", \"everywhere\", \"except\", \"few\", \"fifteen\", \"fify\", \"fill\", \"find\", \"fire\", \"first\", \"five\", \"for\", \"former\", \"formerly\", \"forty\", \"found\", \"four\", \"from\", \"front\", \"full\", \"further\", \"get\", \"give\", \"go\", \"had\", \"has\", \"hasnt\", \"have\", \"he\", \"hence\", \"her\", \"here\", \"hereafter\", \"hereby\", \"herein\", \"hereupon\", \"hers\", \"herself\", \"him\", \"himself\", \"his\", \"how\", \"however\", \"hundred\", \"ie\", \"if\", \"in\", \"inc\", \"indeed\", \"interest\", \"into\", \"is\", \"it\", \"its\", \"itself\", \"keep\", \"last\", \"latter\", \"latterly\", \"least\", \"less\", \"ltd\", \"made\", \"many\", \"may\", \"me\", \"meanwhile\", \"might\", \"mill\", \"mine\", \"more\", \"moreover\", \"most\", \"mostly\", \"move\", \"much\", \"must\", \"my\", \"myself\", \"name\", \"namely\", \"neither\", \"never\", \"nevertheless\", \"next\", \"nine\", \"no\", \"nobody\", \"none\", \"noone\", \"nor\", \"not\", \"nothing\", \"now\", \"nowhere\", \"of\", \"off\", \"often\", \"on\", \"once\", \"one\", \"only\", \"onto\", \"or\", \"other\", \"others\", \"otherwise\", \"our\", \"ours\", \"ourselves\", \"out\", \"over\", \"own\",\"part\", \"per\", \"perhaps\", \"please\", \"put\", \"rather\", \"re\", \"same\", \"see\", \"seem\", \"seemed\", \"seeming\", \"seems\", \"serious\", \"several\", \"she\", \"should\", \"show\", \"side\", \"since\", \"sincere\", \"six\", \"sixty\", \"so\", \"some\", \"somehow\", \"someone\", \"something\", \"sometime\", \"sometimes\", \"somewhere\", \"still\", \"such\", \"system\", \"take\", \"ten\", \"than\", \"that\", \"the\", \"their\", \"them\", \"themselves\", \"then\", \"thence\", \"there\", \"thereafter\", \"thereby\", \"therefore\", \"therein\", \"thereupon\", \"these\", \"they\", \"thickv\", \"thin\", \"third\", \"this\", \"those\", \"though\", \"three\", \"through\", \"throughout\", \"thru\", \"thus\", \"to\", \"together\", \"too\", \"top\", \"toward\", \"towards\", \"twelve\", \"twenty\", \"two\", \"un\", \"under\", \"until\", \"up\", \"upon\", \"us\", \"very\", \"via\", \"was\", \"we\", \"well\", \"were\", \"what\", \"whatever\", \"when\", \"whence\", \"whenever\", \"where\", \"whereafter\", \"whereas\", \"whereby\", \"wherein\", \"whereupon\", \"wherever\", \"whether\", \"which\", \"while\", \"whither\", \"who\", \"whoever\", \"whole\", \"whom\", \"whose\", \"why\", \"will\", \"with\", \"within\", \"without\", \"would\", \"yet\", \"you\", \"your\", \"yours\", \"yourself\", \"yourselves\", \"the\"]\n",
    "stop_words= {}\n",
    "#stop words in a dictionary for faster search\n",
    "for wrd in StopWords :\n",
    "    stop_words[wrd] = True;\n",
    "#dictionary with words and their frequencies \n",
    "dictionary = {}\n",
    "#array versioan of dictionary\n",
    "dick= []\n",
    "#home directory \n",
    "homee= \"C:\\\\Users\\\\dkm\\\\pySpace\\\\PROJECTS\\\\ml\\\\Text_Classification\\\\20newsgroups-mld\\\\mini_newsgroups\\\\mini_newsgroups\"\n",
    "#final data array \n",
    "data = [[\"File names \" ,\"catogary\"]]"
   ]
  },
  {
   "cell_type": "code",
   "execution_count": 73,
   "metadata": {
    "collapsed": true
   },
   "outputs": [],
   "source": [
    "#### Stopinator \n",
    "##Look at the frirst 30 lines in each file as they are meta tags they shall be removed  \n",
    "#so all the words are addes to a string which then will be added to stop_word dictionarey  \n",
    "wastedLines = \"\"\n",
    "for dirpath, dirs, files in os.walk(homee):\n",
    "    for filename in files:\n",
    "        fname = os.path.join(dirpath,filename)\n",
    "        with open(fname) as myfile: \n",
    "            for line in (myfile.read()).split('\\n'):\n",
    "                if ':' not in line :\n",
    "                    break\n",
    "                wastedLines += \" \"+line \n",
    "## Wasted words \n",
    "for word in (RE.findall(wastedLines)):\n",
    "    stop_words[word.lower()]=True\n",
    "#Now we have more stop words "
   ]
  },
  {
   "cell_type": "code",
   "execution_count": 74,
   "metadata": {
    "collapsed": true,
    "scrolled": true
   },
   "outputs": [],
   "source": [
    "#takes a file, extracts non-stop_words and records frequencies \n",
    "def process(fname, dictionary,stop_words):\n",
    "        fName= (fname.split(\"\\\\\"))[-1]\n",
    "        #fName is filename fname is completepath\n",
    "        fsd[fName] ={}\n",
    "        with open(fname) as myfile: \n",
    "            for word in (RE.findall(myfile.read())):\n",
    "                if len(word)<2 or ( word.lower() in stop_words):\n",
    "                    continue\n",
    "                if word in fsd[fName]:\n",
    "                    fsd[fName][word] +=1\n",
    "                else :\n",
    "                    fsd[fName][word] =1  \n",
    "                if word in dictionary :\n",
    "                    dictionary[word] +=1 \n",
    "                else:\n",
    "                    dictionary[word] =1\n",
    "        return"
   ]
  },
  {
   "cell_type": "code",
   "execution_count": 75,
   "metadata": {
    "collapsed": true
   },
   "outputs": [],
   "source": [
    "#Final Data table \n",
    "count=0\n",
    "for dirpath, dirs, files in os.walk(homee):\n",
    "    for filename in files:\n",
    "        fname = os.path.join(dirpath,filename)\n",
    "        data = np.append(data,[[filename, (dirpath.split(\"\\\\\"))[-1]]],axis=0)\n"
   ]
  },
  {
   "cell_type": "code",
   "execution_count": 76,
   "metadata": {},
   "outputs": [
    {
     "data": {
      "text/plain": [
       "(29261, 11833, 0)"
      ]
     },
     "execution_count": 76,
     "metadata": {},
     "output_type": "execute_result"
    }
   ],
   "source": [
    "#dictonary phase\n",
    "##build dictionary with filename : frequency structure \n",
    "for dirpath, dirs, files in os.walk(homee):\n",
    "    for filename in files:\n",
    "        fname = os.path.join(dirpath,filename)\n",
    "        process(fname,dictionary,stop_words)\n",
    "len(dictionary),len(fsd)\n",
    "\n",
    "##status        \n",
    "len(dictionary),len(stop_words),len( dick)"
   ]
  },
  {
   "cell_type": "code",
   "execution_count": 77,
   "metadata": {},
   "outputs": [
    {
     "data": {
      "text/plain": [
       "(29261, 11833, 29262)"
      ]
     },
     "execution_count": 77,
     "metadata": {},
     "output_type": "execute_result"
    }
   ],
   "source": [
    "FILE = open(\"C:\\\\Users\\\\dkm\\\\pySpace\\\\PROJECTS\\\\ml\\\\Text_Classification\\\\20newsgroups-mld\\\\mini_newsgroups\\\\mini_newsgroups\\\\comp.graphics\\\\37921\")\n",
    "#for word in (re.compile('[A-Za-z]+').findall(myfile.read())):\n",
    "dick =[['0',0]];\n",
    "for key, val in dictionary.items():\n",
    "    dick.append([key,int(val)])\n",
    "    \n",
    "dick = (sorted(dick,key=lambda x: (x[1])))\n",
    "dick.reverse()\n",
    "\n",
    "##status        \n",
    "len(dictionary),len(stop_words),len( dick)"
   ]
  },
  {
   "cell_type": "code",
   "execution_count": 78,
   "metadata": {
    "scrolled": true
   },
   "outputs": [
    {
     "data": {
      "text/plain": [
       "(29261, 11833, 29262)"
      ]
     },
     "execution_count": 78,
     "metadata": {},
     "output_type": "execute_result"
    }
   ],
   "source": [
    "##Terminator\n",
    "##the code below eliminates the words common in all files by searching the word in every file one by one\n",
    "file_count= len(fsd.keys())\n",
    "for word,frequency in dick:\n",
    "    if frequency < file_count: \n",
    "        break\n",
    "    Is_this_word_in_every_file = True\n",
    "    for file in fsd.keys():\n",
    "        if word not in fsd[file]:\n",
    "            Is_this_word_in_every_file = False\n",
    "            print(word, \"not in \", fname )\n",
    "            break\n",
    "    if Is_this_word_in_every_file : \n",
    "        [fsd[thisFile].pop(word) for thisFile in fsd.keys()]\n",
    "        dictionary.pop(word)\n",
    "##statusy        \n",
    "len(dictionary),len(stop_words),len( dick)"
   ]
  },
  {
   "cell_type": "code",
   "execution_count": 100,
   "metadata": {},
   "outputs": [
    {
     "data": {
      "image/png": "[encoded data removed]",
      "text/plain": [
       "<matplotlib.figure.Figure at 0x1f98f969da0>"
      ]
     },
     "metadata": {},
     "output_type": "display_data"
    }
   ],
   "source": [
    "#Remove below a certain threshold say top 90% stays \n",
    "Counter(dictionary.values())\n",
    "dick2 =np.array( dick[0:15969])\n",
    "\n",
    "import matplotlib.pyplot as plt\n",
    "fig_size=[0,0]\n",
    "fig_size[0] = 40\n",
    "fig_size[1] = 10\n",
    "\n",
    "plt.rcParams[\"figure.figsize\"] = fig_size\n",
    "plt.xticks(rotation=90)\n",
    "\n",
    "x = Counter(dick2[:,1]).keys()\n",
    "y = Counter(dick2[:,1]).values()\n",
    "plt.scatter(x,y)\n",
    "plt.show()"
   ]
  },
  {
   "cell_type": "code",
   "execution_count": 41,
   "metadata": {},
   "outputs": [
    {
     "data": {
      "text/plain": [
       "2926.3"
      ]
     },
     "execution_count": 41,
     "metadata": {},
     "output_type": "execute_result"
    }
   ],
   "source": [
    "count(data[:,1]) "
   ]
  },
  {
   "cell_type": "code",
   "execution_count": 38,
   "metadata": {},
   "outputs": [
    {
     "data": {
      "text/plain": [
       "(29262, 11832, 29263, 1954, 20)"
      ]
     },
     "execution_count": 38,
     "metadata": {},
     "output_type": "execute_result"
    }
   ],
   "source": [
    "len(dictionary),len(stop_words),len( dick),no_of_files ,no_of_catagories"
   ]
  },
  {
   "cell_type": "code",
   "execution_count": null,
   "metadata": {
    "scrolled": false
   },
   "outputs": [],
   "source": [
    "stop_words"
   ]
  },
  {
   "cell_type": "code",
   "execution_count": 96,
   "metadata": {},
   "outputs": [
    {
     "data": {
      "text/plain": [
       "15969"
      ]
     },
     "execution_count": 96,
     "metadata": {},
     "output_type": "execute_result"
    }
   ],
   "source": [
    "\n",
    "len(dick2)"
   ]
  },
  {
   "cell_type": "code",
   "execution_count": 102,
   "metadata": {},
   "outputs": [
    {
     "data": {
      "text/plain": [
       "Counter({'1': 2677,\n",
       "         '10': 239,\n",
       "         '100': 1,\n",
       "         '101': 1,\n",
       "         '102': 6,\n",
       "         '106': 1,\n",
       "         '108': 1,\n",
       "         '11': 205,\n",
       "         '110': 2,\n",
       "         '111': 1,\n",
       "         '114': 1,\n",
       "         '117': 3,\n",
       "         '12': 159,\n",
       "         '120': 3,\n",
       "         '122': 1,\n",
       "         '124': 1,\n",
       "         '126': 1,\n",
       "         '127': 3,\n",
       "         '129': 2,\n",
       "         '13': 130,\n",
       "         '130': 1,\n",
       "         '14': 127,\n",
       "         '142': 2,\n",
       "         '143': 1,\n",
       "         '149': 1,\n",
       "         '15': 116,\n",
       "         '154': 1,\n",
       "         '16': 114,\n",
       "         '161': 1,\n",
       "         '166': 1,\n",
       "         '17': 91,\n",
       "         '170': 1,\n",
       "         '171': 1,\n",
       "         '172': 1,\n",
       "         '178': 1,\n",
       "         '18': 74,\n",
       "         '181': 1,\n",
       "         '182': 1,\n",
       "         '19': 68,\n",
       "         '193': 1,\n",
       "         '194': 1,\n",
       "         '199': 1,\n",
       "         '2': 4777,\n",
       "         '20': 58,\n",
       "         '206': 1,\n",
       "         '21': 57,\n",
       "         '210': 1,\n",
       "         '212': 1,\n",
       "         '218': 1,\n",
       "         '22': 46,\n",
       "         '224': 1,\n",
       "         '23': 50,\n",
       "         '234': 1,\n",
       "         '236': 1,\n",
       "         '24': 48,\n",
       "         '245': 1,\n",
       "         '25': 29,\n",
       "         '26': 34,\n",
       "         '27': 31,\n",
       "         '273': 1,\n",
       "         '28': 25,\n",
       "         '29': 35,\n",
       "         '3': 2318,\n",
       "         '30': 22,\n",
       "         '31': 29,\n",
       "         '32': 25,\n",
       "         '33': 15,\n",
       "         '34': 22,\n",
       "         '35': 18,\n",
       "         '36': 14,\n",
       "         '37': 16,\n",
       "         '38': 21,\n",
       "         '39': 23,\n",
       "         '4': 1371,\n",
       "         '40': 11,\n",
       "         '41': 18,\n",
       "         '42': 5,\n",
       "         '43': 13,\n",
       "         '44': 9,\n",
       "         '45': 16,\n",
       "         '46': 8,\n",
       "         '47': 16,\n",
       "         '48': 5,\n",
       "         '49': 6,\n",
       "         '5': 889,\n",
       "         '50': 4,\n",
       "         '51': 5,\n",
       "         '52': 10,\n",
       "         '53': 8,\n",
       "         '54': 9,\n",
       "         '55': 4,\n",
       "         '56': 6,\n",
       "         '57': 6,\n",
       "         '58': 7,\n",
       "         '59': 3,\n",
       "         '6': 596,\n",
       "         '60': 4,\n",
       "         '61': 4,\n",
       "         '62': 4,\n",
       "         '63': 6,\n",
       "         '64': 1,\n",
       "         '65': 6,\n",
       "         '66': 3,\n",
       "         '67': 1,\n",
       "         '68': 5,\n",
       "         '69': 4,\n",
       "         '7': 433,\n",
       "         '70': 3,\n",
       "         '71': 5,\n",
       "         '72': 5,\n",
       "         '73': 1,\n",
       "         '74': 3,\n",
       "         '75': 3,\n",
       "         '76': 7,\n",
       "         '77': 3,\n",
       "         '78': 2,\n",
       "         '79': 1,\n",
       "         '8': 340,\n",
       "         '80': 5,\n",
       "         '81': 3,\n",
       "         '82': 4,\n",
       "         '83': 2,\n",
       "         '84': 1,\n",
       "         '85': 4,\n",
       "         '86': 1,\n",
       "         '87': 4,\n",
       "         '88': 1,\n",
       "         '89': 2,\n",
       "         '9': 299,\n",
       "         '92': 1,\n",
       "         '93': 1,\n",
       "         '94': 2,\n",
       "         '97': 1,\n",
       "         '98': 1,\n",
       "         '99': 1})"
      ]
     },
     "execution_count": 102,
     "metadata": {},
     "output_type": "execute_result"
    }
   ],
   "source": [
    "Counter(dick2[:,1])"
   ]
  }
 ],
 "metadata": {
  "kernelspec": {
   "display_name": "Python 3",
   "language": "python",
   "name": "python3"
  },
  "language_info": {
   "codemirror_mode": {
    "name": "ipython",
    "version": 3
   },
   "file_extension": ".py",
   "mimetype": "text/x-python",
   "name": "python",
   "nbconvert_exporter": "python",
   "pygments_lexer": "ipython3",
   "version": "3.6.3"
  }
 },
 "nbformat": 4,
 "nbformat_minor": 2
}
